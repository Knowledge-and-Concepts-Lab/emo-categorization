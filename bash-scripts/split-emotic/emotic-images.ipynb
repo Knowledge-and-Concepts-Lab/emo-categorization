{
 "cells": [
  {
   "cell_type": "markdown",
   "metadata": {},
   "source": [
    "# Identifying EMOTIC images for survey\n",
    "\n",
    "EMOTIC was saved in a MATLAB structure. I cannot remember well how to use MATLAB so i'll reshape everything for python."
   ]
  },
  {
   "cell_type": "markdown",
   "metadata": {},
   "source": [
    "## Exploring dataset structure"
   ]
  },
  {
   "cell_type": "code",
   "execution_count": 1,
   "metadata": {},
   "outputs": [],
   "source": [
    "from scipy.io import loadmat\n",
    "import pandas as pd"
   ]
  },
  {
   "cell_type": "code",
   "execution_count": 2,
   "metadata": {},
   "outputs": [],
   "source": [
    "mat = loadmat('../Annotations/Annotations/Annotations.mat')"
   ]
  },
  {
   "cell_type": "code",
   "execution_count": 3,
   "metadata": {},
   "outputs": [],
   "source": [
    "# mat['train'][0,0]['filename']"
   ]
  },
  {
   "cell_type": "code",
   "execution_count": 4,
   "metadata": {},
   "outputs": [],
   "source": [
    "# mat['train'][0,0]['folder']"
   ]
  },
  {
   "cell_type": "code",
   "execution_count": 5,
   "metadata": {},
   "outputs": [],
   "source": [
    "# mat['train'][0,0]['image_size']"
   ]
  },
  {
   "cell_type": "code",
   "execution_count": 6,
   "metadata": {},
   "outputs": [],
   "source": [
    "# mat['train'][0,0]['original_database']"
   ]
  },
  {
   "cell_type": "code",
   "execution_count": 7,
   "metadata": {},
   "outputs": [],
   "source": [
    "# mat['train'][0,0]['person']"
   ]
  },
  {
   "cell_type": "code",
   "execution_count": 8,
   "metadata": {},
   "outputs": [],
   "source": [
    "# mat['train'][0,0]['person']['gender']"
   ]
  },
  {
   "cell_type": "code",
   "execution_count": 9,
   "metadata": {},
   "outputs": [],
   "source": [
    "# mat['train'][0,0]['person']['age']"
   ]
  },
  {
   "cell_type": "code",
   "execution_count": 10,
   "metadata": {},
   "outputs": [],
   "source": [
    "# mat['train'][0,0]['person']['annotations_categories']"
   ]
  },
  {
   "cell_type": "markdown",
   "metadata": {},
   "source": [
    "## Person sub-structure"
   ]
  },
  {
   "cell_type": "code",
   "execution_count": 11,
   "metadata": {},
   "outputs": [],
   "source": [
    "# mat['test'][0]['person'][1]['annotations_categories']"
   ]
  },
  {
   "cell_type": "code",
   "execution_count": 12,
   "metadata": {},
   "outputs": [],
   "source": [
    "# mat['train'][0]['person'][18]"
   ]
  },
  {
   "cell_type": "code",
   "execution_count": 13,
   "metadata": {},
   "outputs": [],
   "source": [
    "# mat['val'][0]['person'][3]['combined_categories']"
   ]
  },
  {
   "cell_type": "markdown",
   "metadata": {},
   "source": [
    "## Structured array to Pandas DF"
   ]
  },
  {
   "cell_type": "code",
   "execution_count": 14,
   "metadata": {},
   "outputs": [],
   "source": [
    "# Train dataset \n",
    "df1 = pd.DataFrame.from_records(mat['train'][0])"
   ]
  },
  {
   "cell_type": "code",
   "execution_count": 15,
   "metadata": {},
   "outputs": [],
   "source": [
    "# Test dataset \n",
    "# df2 = pd.DataFrame.from_records(mat['test'][0])"
   ]
  },
  {
   "cell_type": "code",
   "execution_count": 16,
   "metadata": {},
   "outputs": [],
   "source": [
    "# Validation dataset\n",
    "# df3 = pd.DataFrame.from_records(mat['val'][0])"
   ]
  },
  {
   "cell_type": "code",
   "execution_count": 17,
   "metadata": {},
   "outputs": [
    {
     "name": "stdout",
     "output_type": "stream",
     "text": [
      "Train dataframe shape: (17077, 5)\n"
     ]
    }
   ],
   "source": [
    "print(f'Train dataframe shape: {df1.shape}')"
   ]
  },
  {
   "cell_type": "markdown",
   "metadata": {},
   "source": [
    "### Removing repeated annotatios\n",
    "\n",
    "There are images with two or more individuals annotated. \n",
    "I can only use images with only one individual annotated for the survey. \n",
    "The 'person' field contains all the information provided for each annotator. If 'categories' occurs more than once, it means two or more individuals were tagged."
   ]
  },
  {
   "cell_type": "code",
   "execution_count": 18,
   "metadata": {},
   "outputs": [],
   "source": [
    "df1['repeated_annotations'] = df1['person'].astype(str).str.count('categories')"
   ]
  },
  {
   "cell_type": "code",
   "execution_count": 19,
   "metadata": {},
   "outputs": [],
   "source": [
    "#df2['repeated_annotations'] = df2['person'].astype(str).str.count('categories')"
   ]
  },
  {
   "cell_type": "code",
   "execution_count": 20,
   "metadata": {},
   "outputs": [],
   "source": [
    "#df3['repeated_annotations'] = df3['person'].astype(str).str.count('categories')"
   ]
  },
  {
   "cell_type": "markdown",
   "metadata": {},
   "source": [
    "I want to keep the rows with one repetition (a single person annotated)"
   ]
  },
  {
   "cell_type": "code",
   "execution_count": 21,
   "metadata": {},
   "outputs": [],
   "source": [
    "mask_filter_repeats = df1['repeated_annotations'] < 2"
   ]
  },
  {
   "cell_type": "code",
   "execution_count": 22,
   "metadata": {},
   "outputs": [],
   "source": [
    "#mask_filter_repeats_2 = df2['repeated_annotations'] < 2"
   ]
  },
  {
   "cell_type": "code",
   "execution_count": 23,
   "metadata": {},
   "outputs": [],
   "source": [
    "#mask_filter_repeats_3 = df3['repeated_annotations'] < 2"
   ]
  },
  {
   "cell_type": "markdown",
   "metadata": {},
   "source": [
    "Use boolean mask to keep images with one person labeled"
   ]
  },
  {
   "cell_type": "code",
   "execution_count": 24,
   "metadata": {},
   "outputs": [],
   "source": [
    "df1 = df1[mask_filter_repeats]"
   ]
  },
  {
   "cell_type": "code",
   "execution_count": 25,
   "metadata": {},
   "outputs": [],
   "source": [
    "#df2 = df2[mask_filter_repeats_2]"
   ]
  },
  {
   "cell_type": "code",
   "execution_count": 26,
   "metadata": {},
   "outputs": [],
   "source": [
    "#df3 = df3[mask_filter_repeats_3]"
   ]
  },
  {
   "cell_type": "code",
   "execution_count": 27,
   "metadata": {},
   "outputs": [
    {
     "name": "stdout",
     "output_type": "stream",
     "text": [
      "Filtered Train dataset shape: (12608, 6)\n"
     ]
    }
   ],
   "source": [
    "print(f'Filtered Train dataset shape: {df1.shape}')"
   ]
  },
  {
   "cell_type": "markdown",
   "metadata": {},
   "source": [
    "## Count how many times each emotion word was used to label each image"
   ]
  },
  {
   "cell_type": "markdown",
   "metadata": {},
   "source": [
    "EMOTIC was labeled in stages with 26 emotion labels. Each image could be labeled with multiple labels. \n",
    "\n",
    "The 'training' set was labeled by one person, meaning each image has at most one label for each emotion.\n",
    "\n",
    "The 'testing' and 'validation' set by multiple people, meaning each image can have several times the same label. \n",
    "\n",
    "After exploring the data, I realized the 'testing' and 'validation' were labeled inconsistently, sometimes by one person, and sometimes by multiple. This means I cannot rely on how many times a image was labeled for a given emotion. Hence, I'll stick with the 'training' set as it has a single (trained) annotator. "
   ]
  },
  {
   "cell_type": "code",
   "execution_count": 28,
   "metadata": {},
   "outputs": [],
   "source": [
    "# True if a given emotion was annotated for the image\n",
    "\n",
    "emotions = ['Peace', 'Affection', 'Esteem', 'Anticipation', 'Engagement',\n",
    "            'Confidence', 'Happiness', 'Pleasure', 'Excitement', 'Surprise',\n",
    "            'Sympathy', 'Doubt/Confusion',  'Disconnection', 'Fatigue', 'Embarrassment',\n",
    "            'Yearning', 'Disapproval', 'Aversion', 'Annoyance', 'Anger',\n",
    "            'Sensitivity', 'Sadness', 'Disquietment', 'Fear', 'Pain', 'Suffering'\n",
    "           ]\n",
    "for e in emotions:\n",
    "    df1[e] = df1['person'].astype(str).str.contains(e)"
   ]
  },
  {
   "cell_type": "code",
   "execution_count": 29,
   "metadata": {},
   "outputs": [
    {
     "data": {
      "text/html": [
       "<div>\n",
       "<style scoped>\n",
       "    .dataframe tbody tr th:only-of-type {\n",
       "        vertical-align: middle;\n",
       "    }\n",
       "\n",
       "    .dataframe tbody tr th {\n",
       "        vertical-align: top;\n",
       "    }\n",
       "\n",
       "    .dataframe thead th {\n",
       "        text-align: right;\n",
       "    }\n",
       "</style>\n",
       "<table border=\"1\" class=\"dataframe\">\n",
       "  <thead>\n",
       "    <tr style=\"text-align: right;\">\n",
       "      <th></th>\n",
       "      <th>filename</th>\n",
       "      <th>folder</th>\n",
       "      <th>image_size</th>\n",
       "      <th>original_database</th>\n",
       "      <th>person</th>\n",
       "      <th>repeated_annotations</th>\n",
       "      <th>Peace</th>\n",
       "      <th>Affection</th>\n",
       "      <th>Esteem</th>\n",
       "      <th>Anticipation</th>\n",
       "      <th>...</th>\n",
       "      <th>Disapproval</th>\n",
       "      <th>Aversion</th>\n",
       "      <th>Annoyance</th>\n",
       "      <th>Anger</th>\n",
       "      <th>Sensitivity</th>\n",
       "      <th>Sadness</th>\n",
       "      <th>Disquietment</th>\n",
       "      <th>Fear</th>\n",
       "      <th>Pain</th>\n",
       "      <th>Suffering</th>\n",
       "    </tr>\n",
       "  </thead>\n",
       "  <tbody>\n",
       "    <tr>\n",
       "      <th>0</th>\n",
       "      <td>[COCO_val2014_000000562243.jpg]</td>\n",
       "      <td>[mscoco/images]</td>\n",
       "      <td>[[[[[640]], [[640]]]]]</td>\n",
       "      <td>[[[['mscoco'], [[(array([[562243]], dtype=int3...</td>\n",
       "      <td>[[[[[ 86  58 564 628]], [[(array([[array(['Dis...</td>\n",
       "      <td>1</td>\n",
       "      <td>False</td>\n",
       "      <td>False</td>\n",
       "      <td>False</td>\n",
       "      <td>False</td>\n",
       "      <td>...</td>\n",
       "      <td>False</td>\n",
       "      <td>False</td>\n",
       "      <td>False</td>\n",
       "      <td>False</td>\n",
       "      <td>False</td>\n",
       "      <td>False</td>\n",
       "      <td>False</td>\n",
       "      <td>False</td>\n",
       "      <td>False</td>\n",
       "      <td>False</td>\n",
       "    </tr>\n",
       "    <tr>\n",
       "      <th>1</th>\n",
       "      <td>[COCO_train2014_000000288841.jpg]</td>\n",
       "      <td>[mscoco/images]</td>\n",
       "      <td>[[[[[640]], [[480]]]]]</td>\n",
       "      <td>[[[['mscoco'], [[(array([[288841]], dtype=int3...</td>\n",
       "      <td>[[[[[485 149 605 473]], [[(array([[array(['Ant...</td>\n",
       "      <td>1</td>\n",
       "      <td>False</td>\n",
       "      <td>False</td>\n",
       "      <td>False</td>\n",
       "      <td>True</td>\n",
       "      <td>...</td>\n",
       "      <td>False</td>\n",
       "      <td>False</td>\n",
       "      <td>False</td>\n",
       "      <td>False</td>\n",
       "      <td>False</td>\n",
       "      <td>False</td>\n",
       "      <td>False</td>\n",
       "      <td>False</td>\n",
       "      <td>False</td>\n",
       "      <td>False</td>\n",
       "    </tr>\n",
       "  </tbody>\n",
       "</table>\n",
       "<p>2 rows × 32 columns</p>\n",
       "</div>"
      ],
      "text/plain": [
       "                            filename           folder              image_size  \\\n",
       "0    [COCO_val2014_000000562243.jpg]  [mscoco/images]  [[[[[640]], [[640]]]]]   \n",
       "1  [COCO_train2014_000000288841.jpg]  [mscoco/images]  [[[[[640]], [[480]]]]]   \n",
       "\n",
       "                                   original_database  \\\n",
       "0  [[[['mscoco'], [[(array([[562243]], dtype=int3...   \n",
       "1  [[[['mscoco'], [[(array([[288841]], dtype=int3...   \n",
       "\n",
       "                                              person  repeated_annotations  \\\n",
       "0  [[[[[ 86  58 564 628]], [[(array([[array(['Dis...                     1   \n",
       "1  [[[[[485 149 605 473]], [[(array([[array(['Ant...                     1   \n",
       "\n",
       "   Peace  Affection  Esteem  Anticipation  ...  Disapproval  Aversion  \\\n",
       "0  False      False   False         False  ...        False     False   \n",
       "1  False      False   False          True  ...        False     False   \n",
       "\n",
       "   Annoyance  Anger  Sensitivity  Sadness  Disquietment   Fear   Pain  \\\n",
       "0      False  False        False    False         False  False  False   \n",
       "1      False  False        False    False         False  False  False   \n",
       "\n",
       "   Suffering  \n",
       "0      False  \n",
       "1      False  \n",
       "\n",
       "[2 rows x 32 columns]"
      ]
     },
     "execution_count": 29,
     "metadata": {},
     "output_type": "execute_result"
    }
   ],
   "source": [
    "df1.head(2)"
   ]
  },
  {
   "cell_type": "markdown",
   "metadata": {},
   "source": [
    "Counting (horizontal sum) how many emotions were detected for each image will give a indication of the ambiguity of the emotion. \n",
    "\n",
    "For instance: an image labeled for 10 different emotions, probably is ambiguous, whereas an image with a single emotion, probably is less. "
   ]
  },
  {
   "cell_type": "code",
   "execution_count": 30,
   "metadata": {},
   "outputs": [],
   "source": [
    "df1['n_emotions'] = df1[emotions].astype(int).sum(axis=1)"
   ]
  },
  {
   "cell_type": "code",
   "execution_count": 31,
   "metadata": {},
   "outputs": [
    {
     "data": {
      "text/plain": [
       "0    2\n",
       "1    1\n",
       "2    3\n",
       "Name: n_emotions, dtype: int64"
      ]
     },
     "execution_count": 31,
     "metadata": {},
     "output_type": "execute_result"
    }
   ],
   "source": [
    "df1['n_emotions'].head(3)"
   ]
  },
  {
   "cell_type": "code",
   "execution_count": 32,
   "metadata": {},
   "outputs": [],
   "source": [
    "# emotions = ['Peace', 'Affection', 'Esteem', 'Anticipation', 'Engagement',\n",
    "#             'Confidence', 'Happiness', 'Pleasure', 'Excitement', 'Surprise',\n",
    "#             'Sympathy', 'Doubt/Confusion',  'Disconnection', 'Fatigue', 'Embarrassment',\n",
    "#             'Yearning', 'Disapproval', 'Aversion', 'Annoyance', 'Anger',\n",
    "#             'Sensitivity', 'Sadness', 'Disquietment', 'Fear', 'Pain', 'Suffering'\n",
    "#            ]\n",
    "# for e in emotions:\n",
    "#     df2[e] = df2['person'].astype(str).str.count(e)"
   ]
  },
  {
   "cell_type": "code",
   "execution_count": 33,
   "metadata": {},
   "outputs": [],
   "source": [
    "# emotions = ['Peace', 'Affection', 'Esteem', 'Anticipation', 'Engagement',\n",
    "#             'Confidence', 'Happiness', 'Pleasure', 'Excitement', 'Surprise',\n",
    "#             'Sympathy', 'Doubt/Confusion',  'Disconnection', 'Fatigue', 'Embarrassment',\n",
    "#             'Yearning', 'Disapproval', 'Aversion', 'Annoyance', 'Anger',\n",
    "#             'Sensitivity', 'Sadness', 'Disquietment', 'Fear', 'Pain', 'Suffering'\n",
    "#            ]\n",
    "# for e in emotions:\n",
    "#     df3[e] = df3['person'].astype(str).str.count(e)"
   ]
  },
  {
   "cell_type": "markdown",
   "metadata": {},
   "source": [
    "### Encode gender\n",
    "\n",
    "The gender information (only Male/Female) is contained in the 'person' column, so I need to clone it and do some string manipulation"
   ]
  },
  {
   "cell_type": "code",
   "execution_count": 34,
   "metadata": {},
   "outputs": [],
   "source": [
    "df1['gender'] = df1['person']"
   ]
  },
  {
   "cell_type": "code",
   "execution_count": 35,
   "metadata": {},
   "outputs": [],
   "source": [
    "df1.loc[df1['gender'].astype(str).str.contains('Male'), 'gender'] = 'Male'\n",
    "df1.loc[df1['gender'].astype(str).str.contains('Female'), 'gender'] = 'Female'"
   ]
  },
  {
   "cell_type": "code",
   "execution_count": 36,
   "metadata": {},
   "outputs": [
    {
     "data": {
      "text/plain": [
       "Male      8494\n",
       "Female    4114\n",
       "Name: gender, dtype: int64"
      ]
     },
     "execution_count": 36,
     "metadata": {},
     "output_type": "execute_result"
    }
   ],
   "source": [
    "df1['gender'].value_counts()"
   ]
  },
  {
   "cell_type": "markdown",
   "metadata": {},
   "source": [
    "### Encode Age\n",
    "\n",
    "The age information (only kid/teen/adult) is contained in the 'person' column, so I need to clone it and do some string manipulation"
   ]
  },
  {
   "cell_type": "code",
   "execution_count": 37,
   "metadata": {},
   "outputs": [],
   "source": [
    "df1['age'] = df1['person']"
   ]
  },
  {
   "cell_type": "code",
   "execution_count": 38,
   "metadata": {},
   "outputs": [],
   "source": [
    "df1.loc[df1['age'].astype(str).str.contains('Kid'), 'age'] = 'Kid'\n",
    "df1.loc[df1['age'].astype(str).str.contains('Teenager'), 'age'] = 'Teenager'\n",
    "df1.loc[df1['age'].astype(str).str.contains('Adult'), 'age'] = 'Adult'"
   ]
  },
  {
   "cell_type": "code",
   "execution_count": 39,
   "metadata": {},
   "outputs": [
    {
     "data": {
      "text/plain": [
       "Adult       9963\n",
       "Kid         1354\n",
       "Teenager    1291\n",
       "Name: age, dtype: int64"
      ]
     },
     "execution_count": 39,
     "metadata": {},
     "output_type": "execute_result"
    }
   ],
   "source": [
    "df1['age'].value_counts()"
   ]
  },
  {
   "cell_type": "markdown",
   "metadata": {},
   "source": [
    "## Cleaning strings"
   ]
  },
  {
   "cell_type": "code",
   "execution_count": 40,
   "metadata": {},
   "outputs": [],
   "source": [
    "df1['filename'] = df1['filename'].astype(str).str.replace(r\"[\\'\\[\\],]\", '')"
   ]
  },
  {
   "cell_type": "code",
   "execution_count": 41,
   "metadata": {},
   "outputs": [],
   "source": [
    "df1['folder'] = df1['folder'].astype(str).str.replace(r\"[\\'\\[\\],]\", '')"
   ]
  },
  {
   "cell_type": "code",
   "execution_count": 42,
   "metadata": {},
   "outputs": [],
   "source": [
    "df1.loc[df1['original_database'].astype(str).str.contains('mscoco'), 'original_database'] = 'mscoco'\n",
    "df1.loc[df1['original_database'].astype(str).str.contains('framesdb'), 'original_database'] = 'framesdb'\n",
    "df1.loc[df1['original_database'].astype(str).str.contains('emodb_small'), 'original_database'] = 'emodb_small'\n",
    "df1.loc[df1['original_database'].astype(str).str.contains('ade20k'), 'original_database'] = 'ade20k'"
   ]
  },
  {
   "cell_type": "code",
   "execution_count": 43,
   "metadata": {},
   "outputs": [
    {
     "data": {
      "text/plain": [
       "mscoco         9702\n",
       "framesdb       2168\n",
       "emodb_small     522\n",
       "ade20k          216\n",
       "Name: original_database, dtype: int64"
      ]
     },
     "execution_count": 43,
     "metadata": {},
     "output_type": "execute_result"
    }
   ],
   "source": [
    "df1['original_database'].astype(str).value_counts()"
   ]
  },
  {
   "cell_type": "code",
   "execution_count": 44,
   "metadata": {},
   "outputs": [
    {
     "data": {
      "text/html": [
       "<div>\n",
       "<style scoped>\n",
       "    .dataframe tbody tr th:only-of-type {\n",
       "        vertical-align: middle;\n",
       "    }\n",
       "\n",
       "    .dataframe tbody tr th {\n",
       "        vertical-align: top;\n",
       "    }\n",
       "\n",
       "    .dataframe thead th {\n",
       "        text-align: right;\n",
       "    }\n",
       "</style>\n",
       "<table border=\"1\" class=\"dataframe\">\n",
       "  <thead>\n",
       "    <tr style=\"text-align: right;\">\n",
       "      <th></th>\n",
       "      <th>filename</th>\n",
       "      <th>folder</th>\n",
       "      <th>image_size</th>\n",
       "      <th>original_database</th>\n",
       "      <th>person</th>\n",
       "      <th>repeated_annotations</th>\n",
       "      <th>Peace</th>\n",
       "      <th>Affection</th>\n",
       "      <th>Esteem</th>\n",
       "      <th>Anticipation</th>\n",
       "      <th>...</th>\n",
       "      <th>Anger</th>\n",
       "      <th>Sensitivity</th>\n",
       "      <th>Sadness</th>\n",
       "      <th>Disquietment</th>\n",
       "      <th>Fear</th>\n",
       "      <th>Pain</th>\n",
       "      <th>Suffering</th>\n",
       "      <th>n_emotions</th>\n",
       "      <th>gender</th>\n",
       "      <th>age</th>\n",
       "    </tr>\n",
       "  </thead>\n",
       "  <tbody>\n",
       "    <tr>\n",
       "      <th>0</th>\n",
       "      <td>COCO_val2014_000000562243.jpg</td>\n",
       "      <td>mscoco/images</td>\n",
       "      <td>[[[[[640]], [[640]]]]]</td>\n",
       "      <td>mscoco</td>\n",
       "      <td>[[[[[ 86  58 564 628]], [[(array([[array(['Dis...</td>\n",
       "      <td>1</td>\n",
       "      <td>False</td>\n",
       "      <td>False</td>\n",
       "      <td>False</td>\n",
       "      <td>False</td>\n",
       "      <td>...</td>\n",
       "      <td>False</td>\n",
       "      <td>False</td>\n",
       "      <td>False</td>\n",
       "      <td>False</td>\n",
       "      <td>False</td>\n",
       "      <td>False</td>\n",
       "      <td>False</td>\n",
       "      <td>2</td>\n",
       "      <td>Male</td>\n",
       "      <td>Adult</td>\n",
       "    </tr>\n",
       "    <tr>\n",
       "      <th>1</th>\n",
       "      <td>COCO_train2014_000000288841.jpg</td>\n",
       "      <td>mscoco/images</td>\n",
       "      <td>[[[[[640]], [[480]]]]]</td>\n",
       "      <td>mscoco</td>\n",
       "      <td>[[[[[485 149 605 473]], [[(array([[array(['Ant...</td>\n",
       "      <td>1</td>\n",
       "      <td>False</td>\n",
       "      <td>False</td>\n",
       "      <td>False</td>\n",
       "      <td>True</td>\n",
       "      <td>...</td>\n",
       "      <td>False</td>\n",
       "      <td>False</td>\n",
       "      <td>False</td>\n",
       "      <td>False</td>\n",
       "      <td>False</td>\n",
       "      <td>False</td>\n",
       "      <td>False</td>\n",
       "      <td>1</td>\n",
       "      <td>Male</td>\n",
       "      <td>Adult</td>\n",
       "    </tr>\n",
       "  </tbody>\n",
       "</table>\n",
       "<p>2 rows × 35 columns</p>\n",
       "</div>"
      ],
      "text/plain": [
       "                          filename         folder              image_size  \\\n",
       "0    COCO_val2014_000000562243.jpg  mscoco/images  [[[[[640]], [[640]]]]]   \n",
       "1  COCO_train2014_000000288841.jpg  mscoco/images  [[[[[640]], [[480]]]]]   \n",
       "\n",
       "  original_database                                             person  \\\n",
       "0            mscoco  [[[[[ 86  58 564 628]], [[(array([[array(['Dis...   \n",
       "1            mscoco  [[[[[485 149 605 473]], [[(array([[array(['Ant...   \n",
       "\n",
       "   repeated_annotations  Peace  Affection  Esteem  Anticipation  ...  Anger  \\\n",
       "0                     1  False      False   False         False  ...  False   \n",
       "1                     1  False      False   False          True  ...  False   \n",
       "\n",
       "   Sensitivity  Sadness  Disquietment   Fear   Pain  Suffering  n_emotions  \\\n",
       "0        False    False         False  False  False      False           2   \n",
       "1        False    False         False  False  False      False           1   \n",
       "\n",
       "   gender    age  \n",
       "0    Male  Adult  \n",
       "1    Male  Adult  \n",
       "\n",
       "[2 rows x 35 columns]"
      ]
     },
     "execution_count": 44,
     "metadata": {},
     "output_type": "execute_result"
    }
   ],
   "source": [
    "df1.head(2)"
   ]
  },
  {
   "cell_type": "markdown",
   "metadata": {},
   "source": [
    "## Subsetting categories\n",
    "\n",
    "\n",
    "- Adult / Minor\n",
    "- Male / Female\n",
    "- Happiness / Aversion / Surprise / Anger / Sadness / Fear\n",
    "- 2 x 2 x 6 = 24 cells"
   ]
  },
  {
   "cell_type": "code",
   "execution_count": 69,
   "metadata": {},
   "outputs": [],
   "source": [
    "basic_emotions =['Happiness', 'Surprise', 'Aversion', 'Anger', 'Sadness', 'Fear']"
   ]
  },
  {
   "cell_type": "code",
   "execution_count": 70,
   "metadata": {},
   "outputs": [],
   "source": [
    "d = {}"
   ]
  },
  {
   "cell_type": "code",
   "execution_count": 71,
   "metadata": {},
   "outputs": [],
   "source": [
    "for be in basic_emotions:\n",
    "    d[be + str('_adult_female')] = df1.loc[(df1[be] == True) & (df1['n_emotions'] < 2) & (df1['gender'] == 'Female') & (df1['age'] == 'Adult')]['filename'].tolist()"
   ]
  },
  {
   "cell_type": "code",
   "execution_count": 72,
   "metadata": {},
   "outputs": [],
   "source": [
    "for be in basic_emotions:\n",
    "    d[be + str('_adult_male')] = df1.loc[(df1[be] == True) & (df1['n_emotions'] < 2) & (df1['gender'] != 'Female') & (df1['age'] == 'Adult')]['filename'].tolist()"
   ]
  },
  {
   "cell_type": "code",
   "execution_count": 73,
   "metadata": {},
   "outputs": [],
   "source": [
    "for be in basic_emotions:\n",
    "    d[be + str('_minor_female')] = df1.loc[(df1[be] == True) & (df1['n_emotions'] < 2) & (df1['gender'] == 'Female') & (df1['age'] != 'Adult')]['filename'].tolist()"
   ]
  },
  {
   "cell_type": "code",
   "execution_count": 74,
   "metadata": {},
   "outputs": [],
   "source": [
    "for be in basic_emotions:\n",
    "    d[be + str('_minor_male')] = df1.loc[(df1[be] == True) & (df1['n_emotions'] < 2) & (df1['gender'] != 'Female') & (df1['age'] != 'Adult')]['filename'].tolist()"
   ]
  },
  {
   "cell_type": "code",
   "execution_count": 75,
   "metadata": {},
   "outputs": [
    {
     "data": {
      "text/plain": [
       "dict_keys(['Happiness_adult_female', 'Surprise_adult_female', 'Aversion_adult_female', 'Anger_adult_female', 'Sadness_adult_female', 'Fear_adult_female', 'Happiness_adult_male', 'Surprise_adult_male', 'Aversion_adult_male', 'Anger_adult_male', 'Sadness_adult_male', 'Fear_adult_male', 'Happiness_minor_female', 'Surprise_minor_female', 'Aversion_minor_female', 'Anger_minor_female', 'Sadness_minor_female', 'Fear_minor_female', 'Happiness_minor_male', 'Surprise_minor_male', 'Aversion_minor_male', 'Anger_minor_male', 'Sadness_minor_male', 'Fear_minor_male'])"
      ]
     },
     "execution_count": 75,
     "metadata": {},
     "output_type": "execute_result"
    }
   ],
   "source": [
    "d.keys()"
   ]
  },
  {
   "cell_type": "code",
   "execution_count": 76,
   "metadata": {},
   "outputs": [
    {
     "data": {
      "text/plain": [
       "24"
      ]
     },
     "execution_count": 76,
     "metadata": {},
     "output_type": "execute_result"
    }
   ],
   "source": [
    "len(d.keys())"
   ]
  },
  {
   "cell_type": "markdown",
   "metadata": {},
   "source": [
    "## Save to text file"
   ]
  },
  {
   "cell_type": "code",
   "execution_count": 90,
   "metadata": {},
   "outputs": [],
   "source": [
    "# tex file with names for sub groups\n",
    "with open('categories_names.txt', 'w') as filehandle:\n",
    "    for listitem in d.keys():\n",
    "        filehandle.write('%s\\n' % listitem)    "
   ]
  },
  {
   "cell_type": "code",
   "execution_count": 88,
   "metadata": {},
   "outputs": [],
   "source": [
    "# tex file with names for sub groups\n",
    "with open('categories_names_fold.txt', 'w') as filehandle:\n",
    "    for listitem in d.keys():\n",
    "        filehandle.write('./%s\\n' % listitem)    "
   ]
  },
  {
   "cell_type": "code",
   "execution_count": 89,
   "metadata": {},
   "outputs": [],
   "source": [
    "# tex file with names for sub groups\n",
    "with open('categories_names_mk.txt', 'w') as filehandle:\n",
    "    for listitem in d.keys():\n",
    "        filehandle.write('%s\\n' % listitem)    "
   ]
  },
  {
   "cell_type": "code",
   "execution_count": 83,
   "metadata": {},
   "outputs": [],
   "source": [
    "# text files for filenames for each sub group\n",
    "for k in d.keys():\n",
    "    with open(k+'.txt', 'w') as filehandle:\n",
    "        for listitem in d[k]:\n",
    "            filehandle.write('%s\\n' % listitem)"
   ]
  }
 ],
 "metadata": {
  "kernelspec": {
   "display_name": "Python 3.6.8 64-bit ('venv': venv)",
   "language": "python",
   "name": "python36864bitvenvvenve269670d94154a47aa0ba5a4660e02de"
  },
  "language_info": {
   "codemirror_mode": {
    "name": "ipython",
    "version": 3
   },
   "file_extension": ".py",
   "mimetype": "text/x-python",
   "name": "python",
   "nbconvert_exporter": "python",
   "pygments_lexer": "ipython3",
   "version": "3.6.8"
  }
 },
 "nbformat": 4,
 "nbformat_minor": 4
}
